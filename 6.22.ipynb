{
 "cells": [
  {
   "cell_type": "code",
   "execution_count": 1,
   "id": "752b4678",
   "metadata": {},
   "outputs": [],
   "source": [
    "import torch\n",
    "from torch.autograd import Variable\n",
    "banch_n = 100\n",
    "hidden_layer = 100\n",
    "input_data = 1000\n",
    "output_data = 10"
   ]
  },
  {
   "cell_type": "code",
   "execution_count": 64,
   "id": "ca0a305d",
   "metadata": {},
   "outputs": [],
   "source": [
    "class Model(torch.nn.Module):\n",
    "    def __init__(self):\n",
    "        super(Model, self).__init__()\n",
    "    def forward(self, input, w1, w2):\n",
    "        x = torch.mm(input, w1)\n",
    "        x = torch.clamp(x, min = 0)\n",
    "        x = torch.mm(x, w2)\n",
    "        x\n",
    "        return x\n",
    "    \n",
    "    def backward(self):\n",
    "        pass\n",
    "    \n",
    "        "
   ]
  },
  {
   "cell_type": "code",
   "execution_count": 65,
   "id": "5985a4c5",
   "metadata": {},
   "outputs": [],
   "source": [
    "model = Model()\n",
    "x = Variable(torch.randn(banch_n, input_data), requires_grad = False)  #(100*1000)\n",
    "y = Variable(torch.randn(banch_n, output_data), requires_grad = False)  #(100*10)\n",
    "\n",
    "# requires_grad = False 参数在计算过程中，不会保留梯度值 \n",
    "# requires_grad = true 参数在计算过程中，保留梯度值,便于后期优化\n",
    "w1 = Variable(torch.randn(input_data, hidden_layer), requires_grad = True)  #(1000*100)\n",
    "w2 = Variable(torch.randn(hidden_layer, output_data), requires_grad = True)  #(100*10)\n",
    "epoch_n = 10\n",
    "learning_rate = 1e-6"
   ]
  },
  {
   "cell_type": "code",
   "execution_count": 70,
   "id": "356545fe",
   "metadata": {},
   "outputs": [
    {
     "name": "stdout",
     "output_type": "stream",
     "text": [
      "Epoch:0, Loss:297636.9688\n",
      "Epoch:1, Loss:284412.0000\n",
      "Epoch:2, Loss:272090.5312\n",
      "Epoch:3, Loss:260621.2500\n",
      "Epoch:4, Loss:249932.4531\n",
      "Epoch:5, Loss:239953.5312\n",
      "Epoch:6, Loss:230628.5469\n",
      "Epoch:7, Loss:221901.5156\n",
      "Epoch:8, Loss:213709.7656\n",
      "Epoch:9, Loss:206002.1094\n"
     ]
    }
   ],
   "source": [
    "    for epoch in range(epoch_n):\n",
    "#         print(x, w1, w2)\n",
    "        y_pred = model(x, w1, w2)\n",
    "        y_pred\n",
    "        loss = (y_pred - y).pow(2).sum()\n",
    "#         print(loss)\n",
    "        print('Epoch:{}, Loss:{:.4f}'.format(epoch,loss.item()))\n",
    "        loss.backward()\n",
    "\n",
    "        w1.data -= learning_rate * w1.grad.data\n",
    "        w2.data -= learning_rate * w2.grad.data\n",
    "\n",
    "        w1.grad.data.zero_()\n",
    "        w2.grad.data.zero_()"
   ]
  },
  {
   "cell_type": "code",
   "execution_count": null,
   "id": "72aa96d9",
   "metadata": {},
   "outputs": [],
   "source": []
  }
 ],
 "metadata": {
  "kernelspec": {
   "display_name": "Python 3 (ipykernel)",
   "language": "python",
   "name": "python3"
  },
  "language_info": {
   "codemirror_mode": {
    "name": "ipython",
    "version": 3
   },
   "file_extension": ".py",
   "mimetype": "text/x-python",
   "name": "python",
   "nbconvert_exporter": "python",
   "pygments_lexer": "ipython3",
   "version": "3.7.10"
  }
 },
 "nbformat": 4,
 "nbformat_minor": 5
}
