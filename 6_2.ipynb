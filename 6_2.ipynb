{
 "cells": [
  {
   "cell_type": "code",
   "execution_count": 1,
   "id": "3ecf3ccc",
   "metadata": {},
   "outputs": [],
   "source": [
    "import torch\n",
    "from torch.autograd import Variable"
   ]
  },
  {
   "cell_type": "code",
   "execution_count": 2,
   "id": "a87d5c04",
   "metadata": {},
   "outputs": [],
   "source": [
    "banch_n = 100\n",
    "hidden_layer = 100\n",
    "input_data = 1000\n",
    "output_data = 10"
   ]
  },
  {
   "cell_type": "code",
   "execution_count": 3,
   "id": "f73dc22d",
   "metadata": {},
   "outputs": [],
   "source": [
    "x = Variable(torch.randn(banch_n, input_data), requires_grad = False)  #(100*1000)\n",
    "y = Variable(torch.randn(banch_n, output_data), requires_grad = False)  #(100*10)\n",
    "\n",
    "# requires_grad = False 参数在计算过程中，不会保留梯度值 \n",
    "# requires_grad = true 参数在计算过程中，保留梯度值,便于后期优化\n",
    "w1 = Variable(torch.randn(input_data, hidden_layer), requires_grad = True)  #(1000*100)\n",
    "w2 = Variable(torch.randn(hidden_layer, output_data), requires_grad = True)  #(100*10)"
   ]
  },
  {
   "cell_type": "code",
   "execution_count": 4,
   "id": "64fde24e",
   "metadata": {},
   "outputs": [],
   "source": [
    "epoch_n = 20\n",
    "learning_rate = 1e-6"
   ]
  },
  {
   "cell_type": "code",
   "execution_count": 6,
   "id": "e2766b5e",
   "metadata": {},
   "outputs": [
    {
     "name": "stdout",
     "output_type": "stream",
     "text": [
      "Epoch:0, Loss:691763.6875\n",
      "Epoch:1, Loss:638960.5625\n",
      "Epoch:2, Loss:592376.1875\n",
      "Epoch:3, Loss:551093.2500\n",
      "Epoch:4, Loss:514333.0312\n",
      "Epoch:5, Loss:481470.9688\n",
      "Epoch:6, Loss:451976.5938\n",
      "Epoch:7, Loss:425389.4688\n",
      "Epoch:8, Loss:401356.4688\n",
      "Epoch:9, Loss:379541.1875\n",
      "Epoch:10, Loss:359680.4375\n",
      "Epoch:11, Loss:341551.1562\n",
      "Epoch:12, Loss:324929.0000\n",
      "Epoch:13, Loss:309647.2500\n",
      "Epoch:14, Loss:295551.0000\n",
      "Epoch:15, Loss:282516.6875\n",
      "Epoch:16, Loss:270445.9062\n",
      "Epoch:17, Loss:259224.4688\n",
      "Epoch:18, Loss:248769.8594\n",
      "Epoch:19, Loss:239014.0469\n"
     ]
    }
   ],
   "source": [
    "for epoch in range(epoch_n):\n",
    "    h1 = x.mm(w1)  #(100*1000)*(1000*100)\n",
    "#     print(h1.size())\n",
    "    h1 = h1.clamp(min = 0)\n",
    "    y_pred = h1.mm(w2)  #(100*100)*(100*10)\n",
    "    \n",
    "    loss = (y_pred - y).pow(2).sum()\n",
    "    if epoch%1 == 0 :\n",
    "        print('Epoch:{}, Loss:{:.4f}'.format(epoch,loss))\n",
    "    \n",
    "    loss.backward()\n",
    "#     print(w1.grad)\n",
    "    w1.data -= learning_rate * w1.grad.data\n",
    "    w2.data -= learning_rate * w2.grad.data\n",
    "    \n",
    "    w1.grad.data.zero_()\n",
    "    w2.grad.data.zero_()"
   ]
  },
  {
   "cell_type": "code",
   "execution_count": 7,
   "id": "4d1aed78",
   "metadata": {},
   "outputs": [
    {
     "name": "stdout",
     "output_type": "stream",
     "text": [
      "Epoch:0, Loss:229887.2500\n",
      "Epoch:10, Loss:163150.0469\n"
     ]
    }
   ],
   "source": [
    "for epoch in range(epoch_n):\n",
    "    h1 = x.mm(w1)  #(100*1000)*(1000*100)\n",
    "#     print(h1.size())\n",
    "    h1 = h1.clamp(min = 0)\n",
    "    y_pred = h1.mm(w2)  #(100*100)*(100*10)\n",
    "    \n",
    "    loss = (y_pred - y).pow(2).sum()\n",
    "    if epoch%10 == 0 :\n",
    "        print('Epoch:{}, Loss:{:.4f}'.format(epoch,loss))\n",
    "    \n",
    "    loss.backward()\n",
    "#     print(w1.grad)\n",
    "    w1.data -= learning_rate * w1.grad.data\n",
    "    w2.data -= learning_rate * w2.grad.data\n",
    "    \n",
    "    w1.grad.data.zero_()\n",
    "    w2.grad.data.zero_()"
   ]
  },
  {
   "cell_type": "code",
   "execution_count": null,
   "id": "1eb490fe",
   "metadata": {},
   "outputs": [],
   "source": []
  }
 ],
 "metadata": {
  "kernelspec": {
   "display_name": "Python 3 (ipykernel)",
   "language": "python",
   "name": "python3"
  },
  "language_info": {
   "codemirror_mode": {
    "name": "ipython",
    "version": 3
   },
   "file_extension": ".py",
   "mimetype": "text/x-python",
   "name": "python",
   "nbconvert_exporter": "python",
   "pygments_lexer": "ipython3",
   "version": "3.7.10"
  }
 },
 "nbformat": 4,
 "nbformat_minor": 5
}
