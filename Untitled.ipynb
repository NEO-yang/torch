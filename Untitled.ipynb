{
 "cells": [
  {
   "cell_type": "code",
   "execution_count": 15,
   "id": "d2a838d2",
   "metadata": {},
   "outputs": [],
   "source": [
    "import torch"
   ]
  },
  {
   "cell_type": "code",
   "execution_count": 16,
   "id": "fd3cfd03",
   "metadata": {},
   "outputs": [],
   "source": [
    "from torchvision import datasets, transforms\n",
    "from torch.autograd import Variable"
   ]
  },
  {
   "cell_type": "code",
   "execution_count": 17,
   "id": "b8747913",
   "metadata": {},
   "outputs": [],
   "source": [
    "transform = transforms.Compose([transforms.ToTensor(),\n",
    "                               transforms.Normalize(mean = [0.5],std=[0.5])])"
   ]
  },
  {
   "cell_type": "code",
   "execution_count": 18,
   "id": "b3c038e2",
   "metadata": {},
   "outputs": [],
   "source": [
    "data_train = datasets.MNIST( root = './data', \n",
    "                            transform= transform,\n",
    "                            train = True,\n",
    "                            download = True\n",
    ")"
   ]
  },
  {
   "cell_type": "code",
   "execution_count": 19,
   "id": "6c4c103c",
   "metadata": {},
   "outputs": [],
   "source": [
    "data_test = datasets.MNIST(root = './data', \n",
    "                            transform= transform,\n",
    "                            train = False)"
   ]
  },
  {
   "cell_type": "code",
   "execution_count": null,
   "id": "d3c5d92c",
   "metadata": {},
   "outputs": [],
   "source": []
  }
 ],
 "metadata": {
  "kernelspec": {
   "display_name": "Python 3 (ipykernel)",
   "language": "python",
   "name": "python3"
  },
  "language_info": {
   "codemirror_mode": {
    "name": "ipython",
    "version": 3
   },
   "file_extension": ".py",
   "mimetype": "text/x-python",
   "name": "python",
   "nbconvert_exporter": "python",
   "pygments_lexer": "ipython3",
   "version": "3.7.10"
  }
 },
 "nbformat": 4,
 "nbformat_minor": 5
}
